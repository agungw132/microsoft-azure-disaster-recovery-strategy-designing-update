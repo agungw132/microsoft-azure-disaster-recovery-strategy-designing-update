{
 "cells": [
  {
   "cell_type": "markdown",
   "metadata": {},
   "source": [
    "# Introduction"
   ]
  },
  {
   "cell_type": "code",
   "execution_count": null,
   "metadata": {},
   "outputs": [],
   "source": []
  },
  {
   "cell_type": "markdown",
   "metadata": {},
   "source": [
    "![](https://storage.googleapis.com/agungwahyudi-public-files/azure_disaster_recovery-2-000002.png)"
   ]
  },
  {
   "cell_type": "markdown",
   "metadata": {},
   "source": [
    "Welcome to the module, Working with Data Backup in Azure. Let's discover what we are going to talk in this module. First of all, we will try to understand how Azure SQL, Cosmos DB, and storage account services store the data. Then we will discover concepts of replicating data stored in the popular Azure Platform as a Service data stores, Cosmos DB, Azure SQL Database, and storage account. At the end, we will learn how to enable geo‑redundancy and multi‑region writes in the Azure Cosmos DB."
   ]
  },
  {
   "cell_type": "markdown",
   "metadata": {
    "vscode": {
     "languageId": "plaintext"
    }
   },
   "source": [
    "# Azure PaaS Data Stores: Cosmos DB, Azure SQL, and Storage Account"
   ]
  },
  {
   "cell_type": "markdown",
   "metadata": {},
   "source": [
    "![](https://storage.googleapis.com/agungwahyudi-public-files/azure_disaster_recovery-2-000004.png)"
   ]
  },
  {
   "cell_type": "markdown",
   "metadata": {},
   "source": [
    "Welcome to the clip, Azure Platform as a Service Data Stores: Cosmos DB, Azure SQL, and storage account. In this clip, we are going to briefly summarize all three Platform as a Service data stores we are going to talk in this module.\n",
    "\n",
    "Azure SQL Database. A general‑purpose, relational database provided as a managed service. With this type of database, we can create a high available and high‑performance data storage layer for the applications and solutions we are building on the Microsoft Azure. With the SQL database, we can build our modern cloud applications because it enables us to process both relational data and non‑relational structures as graphs, JSONs, or XML.\n",
    "\n",
    "Azure Cosmos DB. Nowadays, modern applications are required to be highly responsive and always online. To achieve low latency and high availability, instances of these applications needs to be deployed in the data centers that are close to their users. It's not so easy. Applications need to respond in real time to allow changes in usage at peak hours, start either increasing volumes of data, and make this data available to users in milliseconds. No one likes waiting for data. Azure Cosmos DB is the Microsoft's globally distributed multi‑model database service. Cosmos DB provides compression‑safe, service level agreements for throughput, latency, availability, and consistency guarantees, something no other database service offers.\n",
    "\n",
    "Microsoft Azure Storage is a cloud storage solution for modern data storage scenarios. Azure Storage offers a massively scalable object store for data objects, a file system service for the cloud, a messaging store for reliable messaging, and NoSQL store. Azure storage is durable and high available. Redundancy ensures that our data is safe in the event on transient hardware failures. It's also secured. All data written to Azure Storage is encrypted. It's scalable. Azure Storage is designed to be massively scalable to meet the data storage and performance needs of today's applications. In this module, we are going to talk about all these free services."
   ]
  },
  {
   "cell_type": "markdown",
   "metadata": {},
   "source": [
    "# Data Geo-replication in the Azure SQL"
   ]
  },
  {
   "cell_type": "markdown",
   "metadata": {},
   "source": [
    "![](https://storage.googleapis.com/agungwahyudi-public-files/azure_disaster_recovery-2-000006.png)"
   ]
  },
  {
   "cell_type": "markdown",
   "metadata": {},
   "source": [
    "In this clip, we are going to talk about Data Geo‑replication in the Azure SQL Database. Azure SQL Database automatically creates full database backups weekly, differential database backups every 12 hours, and transaction log backups every 5 up to 10 minutes.\n",
    "\n",
    "Azure Active geo‑application for SQL database automatically replicates database changes to secondary databases in the same or different Azure region.\n",
    "\n",
    "There is also a manual approach for backup and restore for Azure SQL Database. There is Import/Export service, which supports exporting databases to the BACPAC files. In the future, database can be recreated using these files."
   ]
  },
  {
   "cell_type": "markdown",
   "metadata": {},
   "source": [
    "![](https://storage.googleapis.com/agungwahyudi-public-files/azure_disaster_recovery-2-000007.png)"
   ]
  },
  {
   "cell_type": "markdown",
   "metadata": {},
   "source": [
    "Active geo‑replication allows creating readable secondary databases of individual databases on SQL Database server in the same or different Azure region. If geo‑replication is enabled, the application can instantiate failover to a secondary database in a different Azure region."
   ]
  },
  {
   "cell_type": "markdown",
   "metadata": {},
   "source": [
    "![](https://storage.googleapis.com/agungwahyudi-public-files/azure_disaster_recovery-2-000008.png)"
   ]
  },
  {
   "cell_type": "markdown",
   "metadata": {},
   "source": [
    "Now what are the features related with SQL Database business continuity? There is a feature called temporal tables. It enables to restore row versions from any point in time.\n",
    "\n",
    "We can also use build‑in automated backups and point‑in‑time restore to restore complete database to some point in time.\n",
    "\n",
    "Active geo‑replication enables creating readable replicas and manually failover to any replica in case of data center outage or application upgrade.\n",
    "\n",
    "Auto‑failover group allows the application to automatically recover in case of data center outage.\n",
    "\n",
    "Long‑term backup retention enables to keep the backups up to 10 years."
   ]
  },
  {
   "cell_type": "markdown",
   "metadata": {},
   "source": [
    "![](https://storage.googleapis.com/agungwahyudi-public-files/azure_disaster_recovery-2-000009.png)"
   ]
  },
  {
   "cell_type": "markdown",
   "metadata": {},
   "source": [
    "Now what are some differences when we compared geo‑replication with failover groups? First of all, in case of geo‑replication, there is no automatic failover. It means that if there is something wrong with one database in a specific region, we have to manually failover to the second region to enable access to the data.\n",
    "\n",
    "In case of geo‑replication, there is no failover for multiple databases simultaneously.\n",
    "\n",
    "And the last important difference is that in case of geo‑replication, we have to manually update connection string after failover. After‑failover groups is a SQL Database feature that allows us to manage replication and failover of a group of databases on SQL Database server or all databases in a managed instance to another region. It's at the clarity of abstraction, on the top of existing active geo‑replication feature designed to simplify deployment and management of geo‑replicated database at scale. In the next clip, we are going to talk about data geo‑replication in the Azure Cosmos DB."
   ]
  },
  {
   "cell_type": "markdown",
   "metadata": {},
   "source": [
    "# Data Geo-replication in the Azure Cosmos DB"
   ]
  },
  {
   "cell_type": "markdown",
   "metadata": {},
   "source": [
    "![](https://storage.googleapis.com/agungwahyudi-public-files/azure_disaster_recovery-2-000011.png)"
   ]
  },
  {
   "cell_type": "markdown",
   "metadata": {},
   "source": [
    "Welcome to the clip, Data Geo‑replication in the Azure Cosmos DB. In this clip, we'll focus on some features available in the Cosmos DB to enable high availability and disaster recovery. Azure Cosmos DB backups are stored separately in another storage service and are replicated globally to protect against regional disasters.\n",
    "\n",
    "Cosmos DB automatically takes a backup of a database every four hours and at any point of time. Only the latest two backups are stored.\n",
    "\n",
    "When the container or database is deleted, Azure Cosmos DB retains the existing snapshots of a given container or database for 30 days. So if you accidentally deleted your database, no worries. There is a chance to recover it."
   ]
  },
  {
   "cell_type": "markdown",
   "metadata": {},
   "source": [
    "![](https://storage.googleapis.com/agungwahyudi-public-files/azure_disaster_recovery-2-000012.png)"
   ]
  },
  {
   "cell_type": "markdown",
   "metadata": {},
   "source": [
    "Azure Cosmos DB ensures that when an additional region is added, the data is available for operations within 30 minutes, assuming data size is 100 TB or less. So if you decide to add an additional region, you can be sure that you can access your data after 30 minutes.\n",
    "\n",
    "There are two common scenarios for configuring two or more regions. First one, delivering low latency access to the data to end users, no matter where they are located around the globe. The second scenario, adding regional resiliency for business continuity and disaster recovery. For the first scenario, so for delivering low latency to end users, it is recommended that we deploy both the application and Azure Cosmos DB in the regions that correspond to where the applications users are located. For the second scenario, so for the business continuity and disaster recovery, it is recommended to add regions based on the region pairs we described in the first module."
   ]
  },
  {
   "cell_type": "markdown",
   "metadata": {},
   "source": [
    "![](https://storage.googleapis.com/agungwahyudi-public-files/azure_disaster_recovery-2-000013.png)"
   ]
  },
  {
   "cell_type": "markdown",
   "metadata": {},
   "source": [
    "Another great feature in the Cosmos DB is called multi master. When the account is replicated in multiple regions, each region is a master region that equally participates in a write‑anywhere model. This feature can be enabled in Azure portal for Cosmos DB account. Multi master in Azure Cosmos DB provides high levels of availability, single‑digit millisecond latency to write data and scalability with built‑in compression sieve and flexible conflict resolution support. Multi‑master is composed of multiple master regions that equally participate in a write‑anywhere model active‑active pattern, and it is used to ensure that data is available at any time where we need it. Updates made to an individual region are asynchronously propagated to all other regions, which in turn are master regions in their own. Azure Cosmos DB regions operating as master regions in a multi‑master configuration automatically work to converge the data of all replicas and ensure global resiliency and data integrity."
   ]
  },
  {
   "cell_type": "markdown",
   "metadata": {},
   "source": [
    "![](https://storage.googleapis.com/agungwahyudi-public-files/azure_disaster_recovery-2-000014.png)"
   ]
  },
  {
   "cell_type": "markdown",
   "metadata": {},
   "source": [
    "Another cool feature available in the Azure Cosmos DB is called read region priorities. We can prioritize by drag and drop which regions should be read first with automatic failover option. In the next clip, we will discover what data geo‑replication options are available in the Azure Storage account service."
   ]
  },
  {
   "cell_type": "markdown",
   "metadata": {},
   "source": [
    "# Data Geo-replication in the Azure Storage Account"
   ]
  },
  {
   "cell_type": "markdown",
   "metadata": {},
   "source": [
    "![](https://storage.googleapis.com/agungwahyudi-public-files/azure_disaster_recovery-2-000016.png)"
   ]
  },
  {
   "cell_type": "markdown",
   "metadata": {},
   "source": [
    "Welcome to the clip, Data Geo‑replication in the Azure Storage Account. It is worth to start with the information that data in the Azure Storage account is always replicated to ensure durability and high availability.\n",
    "\n",
    "Azure automatically stores Azure Storage account data three times within different fault domains in the same Azure region.\n",
    "\n",
    "When geo‑replication is enabled, the data is stored three additional times in a different region."
   ]
  },
  {
   "cell_type": "markdown",
   "metadata": {},
   "source": [
    "![](https://storage.googleapis.com/agungwahyudi-public-files/azure_disaster_recovery-2-000017.png)"
   ]
  },
  {
   "cell_type": "markdown",
   "metadata": {},
   "source": [
    "Now, when talking about the data redundancy, there are a few options. Let's start with locally redundant storage. Locally redundant storage replicates the data three times within a single data center. When data center‑level disaster occurs, all replicas in a storage account using locally redundant storage may be lost and unrecoverable. That is why two other approaches are recommended. Use Zone‑Redundant Storage and Geo‑Redundant Storage. Let's discover them."
   ]
  },
  {
   "cell_type": "markdown",
   "metadata": {},
   "source": [
    "![](https://storage.googleapis.com/agungwahyudi-public-files/azure_disaster_recovery-2-000018.png)"
   ]
  },
  {
   "cell_type": "markdown",
   "metadata": {},
   "source": [
    "Zone‑Redundant Storage replicates the data synchronously across three storage clusters in a single region. Each storage cluster is physically separated from the others and is located in its own availability zone. When data is stored in a storage account using Zone‑Redundant Storage replication, data access and management is still possible if one of availability zones becomes unavailable."
   ]
  },
  {
   "cell_type": "markdown",
   "metadata": {},
   "source": [
    "![](https://storage.googleapis.com/agungwahyudi-public-files/azure_disaster_recovery-2-000019.png)"
   ]
  },
  {
   "cell_type": "markdown",
   "metadata": {},
   "source": [
    "In case of Geo‑Redundant Storage, it replicates the data to a secondary region that is hundreds of miles away from the primary region. When Storage Account has Geo‑Redundant Storage enabled, data is durable even in case of complete regional outage. Data is replicated to the secondary region asynchronously, meaning there is a delay between when data written to a primary region is written to the secondary region."
   ]
  },
  {
   "cell_type": "markdown",
   "metadata": {},
   "source": [
    "![](https://storage.googleapis.com/agungwahyudi-public-files/azure_disaster_recovery-2-000020.png)"
   ]
  },
  {
   "cell_type": "markdown",
   "metadata": {},
   "source": [
    "Very important information. An account failover usually involves some data loss. It is important to understand the implications of instantiating an account failover. It means that we have to understand that when there is a failover, some data can be lost and will not be saved."
   ]
  },
  {
   "cell_type": "markdown",
   "metadata": {
    "vscode": {
     "languageId": "plaintext"
    }
   },
   "source": [
    "# Demo: Azure Cosmos DB Geo-replication"
   ]
  },
  {
   "cell_type": "markdown",
   "metadata": {},
   "source": [
    "![](https://storage.googleapis.com/agungwahyudi-public-files/azure_disaster_recovery-2-000021.png)"
   ]
  },
  {
   "cell_type": "markdown",
   "metadata": {},
   "source": [
    "Demo time. We will enable geo‑redundancy and multi‑region writes in the Azure Cosmos DB. We will learn how to create Cosmos DB instance, how to enable geo‑redundancy, and how to enable multiple writes. Once we sign into the Azure Portal under the portal.azure.com, we click Create a resource button. In the Search Box, we have to type Cosmos DB and select Azure Cosmos DB from the drop‑down. In the next page, we click Create button. We start from creating a new resource group where Azure Cosmos DB will be provisioned. In this case, this will be rg‑ps‑cosmos. We have to scroll down and type unique name for the Cosmos DB account. In my case, this will be ps‑cosmos‑db. API and Apache Spark sections can be left without changes. From the Location drop‑down, I will select the closest region to me, so West Europe. Below, there are two very important sections, Geo‑Redundancy and Multi‑region Writes. If we enable geo‑redundancy data in our Cosmos DB, it will be replicated across paired regions, in this case, West Europe and North Europe. Of course, we can add more regions later. Let's enable geo‑redundancy. When multi‑master region writes is enabled, we can write the data across different Azure regions. We can enable it. Very important point to notice, enabling multi‑region writes is possible only when creating new Azure Cosmos DB account. Now we can click Networking button, and we can leave default settings. There will be no tags, so we can move to the Review + create tab. Here, after validation, we click Create button. To avoid waiting until the resources are provisioned, I forwarded the video. Once the Cosmos DB account is created, we can click go to resource button. We scroll down in the left bar and select Replicate data globally tab. This is the place where we can add or remove regions for our Azure Cosmos DB account to enable or disable geo‑replication of data. We can add one more region. So for instance, Canada is this time. We have to save changes by clicking the Save button. Azure Cosmos DB will automatically configure selected regions. After a few minutes, there should be confirmation. Now with the geo‑replication, our data is replicated across different regions. In case of disaster in the one region, we can still access the data from the second region."
   ]
  },
  {
   "cell_type": "markdown",
   "metadata": {
    "vscode": {
     "languageId": "plaintext"
    }
   },
   "source": [
    "# Summary"
   ]
  },
  {
   "cell_type": "markdown",
   "metadata": {},
   "source": [
    "![](https://storage.googleapis.com/agungwahyudi-public-files/azure_disaster_recovery-2-000022.png)"
   ]
  },
  {
   "cell_type": "markdown",
   "metadata": {},
   "source": [
    "In this module, we discovered Azure Platform as a Service data stores like Cosmos DB, Azure SQL, and Storage Account. We learned some data geo‑replication concepts for these services, and at the end, we discovered how to enable geo‑redundancy and multi‑region writes into Azure Cosmos DB. In the next module, we will learn how to design geo‑replication strategy on Microsoft Azure."
   ]
  }
 ],
 "metadata": {
  "kernelspec": {
   "display_name": "base",
   "language": "python",
   "name": "python3"
  },
  "language_info": {
   "name": "python",
   "version": "3.11.5"
  }
 },
 "nbformat": 4,
 "nbformat_minor": 2
}

{
 "cells": [
  {
   "cell_type": "markdown",
   "metadata": {},
   "source": [
    "# Course Overview"
   ]
  },
  {
   "cell_type": "markdown",
   "metadata": {
    "vscode": {
     "languageId": "plaintext"
    }
   },
   "source": [
    "Hello everyone. My name is Daniel, and welcome to my Pluralsight course, Designing a Disaster Recovery Strategy on Microsoft Azure. Building resilient and high available solutions can be hard and challenging. That is why Azure Cloud provides great features for implementing disaster recovery strategy. In this course, we will learn how to design and implement disaster recovery for applications on the Azure Cloud. Some of the major topics include explanation of the RTO, RPO, and RLO concepts; introduction to disaster recovery concepts for the popular Azure PaaS services like Azure App Service or Cosmos DB; concepts of replicating data stored in popular Azure PaaS data stores like Cosmos DB and SQL Database; using Azure Traffic Manager and Azure Front Door services to implement high availability. At the end of this course, you will be able to implement resilient and high available solutions on the Microsoft Azure Cloud, understand disaster recovery concepts for the popular Azure PaaS services, and configure Azure services to support regional failover. I hope you will join me and take the course, Designing a Disaster Recovery Strategy on Microsoft Azure, at Pluralsight."
   ]
  },
  {
   "cell_type": "markdown",
   "metadata": {
    "vscode": {
     "languageId": "plaintext"
    }
   },
   "source": [
    "# Introduction"
   ]
  },
  {
   "cell_type": "markdown",
   "metadata": {},
   "source": [
    "![](https://storage.googleapis.com/agungwahyudi-public-files/azure_disaster_recovery-1-000002.png)"
   ]
  },
  {
   "cell_type": "markdown",
   "metadata": {},
   "source": [
    "Welcome to the course Designing a Disaster Recovery Strategy on Microsoft Azure and this first module Determining Recovery Requirements. My name is Daniel, and I have the pleasure to guide you for this course. I work as a software engineer in one of the companies located in Warsaw, Poland. I was also awarded with Microsoft Most Valuable Professional title. I encourage you to contact me on Twitter and visit my blog techmindfactory.com.\n",
    "\n",
    "Let's see the topics we are going to talk in this course. First, we'll see how to determine recovery requirements. We will discuss how to apply resiliency strategies, for instance. Then, we will see how to work with data backup in the Azure cloud. And next, we'll see failure mode analysis for Azure applications. Then, we will concentrate on designing a geo‑replication strategy. And at the end, we will summarize the whole course."
   ]
  },
  {
   "cell_type": "markdown",
   "metadata": {},
   "source": [
    "![](https://storage.googleapis.com/agungwahyudi-public-files/azure_disaster_recovery-1-000003.png)"
   ]
  },
  {
   "cell_type": "markdown",
   "metadata": {},
   "source": [
    "In this first module, we will discuss designing and implementing disaster recovery for applications on Azure. We'll explain terms like RTO, RPO, and RLO. We will also see how disaster recovery concepts look like for different popular Azure PaaS services like Azure App Service, Azure SQL, Cosmos DB, and Storage Account. Then, we will see how to work with Traffic Manager service."
   ]
  },
  {
   "cell_type": "markdown",
   "metadata": {
    "vscode": {
     "languageId": "plaintext"
    }
   },
   "source": [
    "# Resiliency Checklist for Specific Azure Services"
   ]
  },
  {
   "cell_type": "markdown",
   "metadata": {},
   "source": [
    "![](https://storage.googleapis.com/agungwahyudi-public-files/azure_disaster_recovery-1-000005.png)"
   ]
  },
  {
   "cell_type": "markdown",
   "metadata": {},
   "source": [
    "Welcome to the clip, Resiliency Checklist for Specific Azure Services. In this clip, I would like to concentrate on some terms like resiliency, disaster recovery, and discuss some popular Azure services we will discuss in this course.\n",
    "\n",
    "Let me start with a description of two important terms, disaster recovery and resiliency. Disaster recovery describes steps which are done to re‑establish availability of the solution after an outage. It refers to restoring systems and data to a previous acceptable state in the event of partial or complete failure due to natural or technical causes. We can try to imagine, for instance, that someone deleted the table in a database or one of our web APIs stopped working. From this point, we have to make everything to re‑establish availability of the solution, so we have to detect what happened, but also make the solution available for the end users."
   ]
  },
  {
   "cell_type": "markdown",
   "metadata": {},
   "source": [
    "![](https://storage.googleapis.com/agungwahyudi-public-files/azure_disaster_recovery-1-000006.png)"
   ]
  },
  {
   "cell_type": "markdown",
   "metadata": {},
   "source": [
    "There is also a term called resiliency. It's the ability of a system to recover from failures and continue to function. Every technology has its own particular failure modes which has to be considered when designing and implementing an application solution."
   ]
  },
  {
   "cell_type": "markdown",
   "metadata": {},
   "source": [
    "![](https://storage.googleapis.com/agungwahyudi-public-files/azure_disaster_recovery-1-000007.png)"
   ]
  },
  {
   "cell_type": "markdown",
   "metadata": {},
   "source": [
    "There are some important questions to ask related with resiliency and disaster recovery. How much do we invest in making our application highly available? So, for instance, how much money do we invest in the infrastructure to make sure that if one web API stopped working we can fail over to the second instance?\n",
    "\n",
    "Another important question is, how much does potential downtime cost our business? So, how much money we will lose if our solution stop working?\n",
    "\n",
    "Another one, what are our customers availability requirements? Should our system be available 24 hours per 7 days or only in specific hours? All these questions are related with resiliency and disaster recovery."
   ]
  },
  {
   "cell_type": "markdown",
   "metadata": {},
   "source": [
    "![](https://storage.googleapis.com/agungwahyudi-public-files/azure_disaster_recovery-1-000008.png)"
   ]
  },
  {
   "cell_type": "markdown",
   "metadata": {},
   "source": [
    "So, how to implement resiliency? There are many important steps.\n",
    "\n",
    "Determine subscription and service requirements. Every Azure subscription has its limits on certain resources such as number of resource groups, CORS, and storage accounts. If our application requirements exceeded Azure subscription limits, we have an option to create another Azure subscription and provision sufficient resources there.\n",
    "\n",
    "Apply resiliency strategies. One of such strategies is retry transient failures. This can be caused by momentary loss of network connectivity, a dropped database connection or a timeout when service is busy. Often a transient failure can be resolved by retrying the request. Another strategy, implement asynchronous operations whenever possible. Synchronous operations can monopolize resources and block other operations while the caller waits for the process to complete. Design each part of your application to follow for asynchronous operations whenever possible.\n",
    "\n",
    "Plan for usage patterns. Identify differences in requirements during critical and non‑critical periods. Are there certain critical periods when the system must be available, for example, a tax filing application can fail during a filing deadline, and a video streaming service shouldn't lag during a live event. In these situations, weigh the cost against the risk.\n",
    "\n",
    "Identify distinct workloads. Cloud solutions typically consist of multiple application workloads. A workload is a distinct capability or task that is logically separated from other tasks in terms of business logic and data storage requirements. For example, an e‑commerce app might have the following workloads: browse and search a product catalog, create and track orders, view recommendations. Each workload has different requirements for availability, scalability, data consistency, and disaster recovery. Make your business decisions by balancing cost versus risk for each workload."
   ]
  },
  {
   "cell_type": "markdown",
   "metadata": {},
   "source": [
    "![](https://storage.googleapis.com/agungwahyudi-public-files/azure_disaster_recovery-1-000009.png)"
   ]
  },
  {
   "cell_type": "markdown",
   "metadata": {},
   "source": [
    "Operate in multiple regions. If your application is deployed to a single region, in the rare event the entire region becomes unavailable, your application will also be unavailable. This may be unacceptable under the terms of your application's SLA. If so, consider deploying your application and its services across multiple regions.\n",
    "\n",
    "Monitor third‑party services. If your application has dependencies on third‑party services, identify where and how these services can fail and what effect those failures will have on your application.\n",
    "\n",
    "Apply load balancing. To load balance traffic across regions requires a traffic management solution like Azure Traffic Manager. Load balancing distributes your application's request to healthy service instances by removing unhealthy instances from rotation.\n",
    "\n",
    "Identify possible failure points in the system. Determine what types of failures an application might experience and how the application detects those failures."
   ]
  },
  {
   "cell_type": "markdown",
   "metadata": {},
   "source": [
    "![](https://storage.googleapis.com/agungwahyudi-public-files/azure_disaster_recovery-1-000010.png)"
   ]
  },
  {
   "cell_type": "markdown",
   "metadata": {},
   "source": [
    "So now it's time to discuss Azure paired regions. An Azure region is an area within a geography containing one or more datacenters. Each Azure region is paired with another region within the same geography, together making a regional pair."
   ]
  },
  {
   "cell_type": "markdown",
   "metadata": {},
   "source": [
    "![](https://storage.googleapis.com/agungwahyudi-public-files/azure_disaster_recovery-1-000011.png)"
   ]
  },
  {
   "cell_type": "markdown",
   "metadata": {},
   "source": [
    "For instance, we can have our Azure resources deployed in two different regions, in the North Europe region and West Europe."
   ]
  },
  {
   "cell_type": "markdown",
   "metadata": {},
   "source": [
    "![](https://storage.googleapis.com/agungwahyudi-public-files/azure_disaster_recovery-1-000012.png)"
   ]
  },
  {
   "cell_type": "markdown",
   "metadata": {},
   "source": [
    "There are multiple regional pairs available in Azure. More examples, China North, China East, France Central, France South, Germany Central, Germany Northeast. On the left side, we can see that regional pairs consists of two regions, and within those regions there are Azure datacenters."
   ]
  },
  {
   "cell_type": "markdown",
   "metadata": {},
   "source": [
    "![](https://storage.googleapis.com/agungwahyudi-public-files/azure_disaster_recovery-1-000013.png)"
   ]
  },
  {
   "cell_type": "markdown",
   "metadata": {},
   "source": [
    "There are also other availability zones. Azure availability zones are unique physical locations within an Azure region. To ensure resiliency, there is a minimum of three separate zones in all enabled regions. On the left side, we can see that within Azure region there are three different availability zones. If one zone becomes unavailable, we can still use two of them. In the next clip, we will introduce Azure PaaS services we are going to talk about in this course."
   ]
  },
  {
   "cell_type": "markdown",
   "metadata": {
    "vscode": {
     "languageId": "plaintext"
    }
   },
   "source": [
    "# Azure PaaS Services in This Course"
   ]
  },
  {
   "cell_type": "markdown",
   "metadata": {},
   "source": [
    "![](https://storage.googleapis.com/agungwahyudi-public-files/azure_disaster_recovery-1-000014.png)"
   ]
  },
  {
   "cell_type": "markdown",
   "metadata": {},
   "source": [
    "In this clip, we are going to talk about PaaS services available in Azure, Azure Web App Service, Azure SQL Database, Azure Cosmos DB, and Azure Storage Account. In this course, we will not focus on the functionality each service offers. But if you would like to discover it, I really encourage you to check other courses available on Pluralsight. We are going to discuss these services and discover how to build resilient and high‑available solutions with them."
   ]
  },
  {
   "cell_type": "markdown",
   "metadata": {},
   "source": [
    "![](https://storage.googleapis.com/agungwahyudi-public-files/azure_disaster_recovery-1-000015.png)"
   ]
  },
  {
   "cell_type": "markdown",
   "metadata": {},
   "source": [
    "Azure Web App Service, HTTP‑based service for hosting web applications, REST APIs, and mobile backends. It's available for multiple languages and frameworks like ASP.NET, Java, or PHP. Azure Web App Service is available for a global scale with high availability. We can scale it horizontally with multiple instances, and vertically, by adding power to some resources like memory or CPU."
   ]
  },
  {
   "cell_type": "markdown",
   "metadata": {},
   "source": [
    "![](https://storage.googleapis.com/agungwahyudi-public-files/azure_disaster_recovery-1-000016.png)"
   ]
  },
  {
   "cell_type": "markdown",
   "metadata": {},
   "source": [
    "Azure SQL Database is a general‑purpose relational database provided as a managed service. It enables processing both relational data and non‑relational structures such as JSON and XML. It also provides advanced monitoring and troubleshooting features."
   ]
  },
  {
   "cell_type": "markdown",
   "metadata": {},
   "source": [
    "![](https://storage.googleapis.com/agungwahyudi-public-files/azure_disaster_recovery-1-000017.png)"
   ]
  },
  {
   "cell_type": "markdown",
   "metadata": {},
   "source": [
    "Azure Cosmos DB a globally distributed multi‑model database service. It enables data access through different APIs like MongoDB or SQL. It enables elastically and independently scaling throughput and storage across many Azure regions worldwide."
   ]
  },
  {
   "cell_type": "markdown",
   "metadata": {},
   "source": [
    "![](https://storage.googleapis.com/agungwahyudi-public-files/azure_disaster_recovery-1-000018.png)"
   ]
  },
  {
   "cell_type": "markdown",
   "metadata": {},
   "source": [
    "Azure Storage Account is a cloud‑storage solution for modern data storage scenarios. Azure Storage includes these data services, Azure Blobs, Azure Files, Azure Queues, and Azure Tables."
   ]
  },
  {
   "cell_type": "markdown",
   "metadata": {},
   "source": [
    "![](https://storage.googleapis.com/agungwahyudi-public-files/azure_disaster_recovery-1-000019.png)"
   ]
  },
  {
   "cell_type": "markdown",
   "metadata": {},
   "source": [
    "Now for each of these services, there is a specific resiliency checklist. So, for instance, for Azure Web App Service, we should use Standard or Premium tier. This tier support staging slots and automated backups. So, for instance, if something goes wrong during the deployment, we can swap the application to the previous version.\n",
    "\n",
    "We should also avoid scaling up or down. Instead, we should select a tier and instance size that meet our performance requirements under a typical load and then scale out the instances to handle changes in the traffic volume. Scaling up and down may trigger an application restart. This can affect end users.\n",
    "\n",
    "Create separate App Service plans for production and test. We should not use slots on our production deployment for testing. All apps within the same App Service plans share the same virtual machine instances. If we put production and test deployments in the same plan, it can negatively affect the production deployment. For instance, low test might degrade the live production side. By putting test deployments into a separate plan, we can easily isolate them from the production version.\n",
    "\n",
    "Another important point of our resiliency checklist is related with diagnostics logging. With logging enabled, we can easily track issues in our application, and we can provide fixes quickly. Of course, there are more points on resiliency checklists for Azure App Service, but these are some important examples."
   ]
  },
  {
   "cell_type": "markdown",
   "metadata": {},
   "source": [
    "![](https://storage.googleapis.com/agungwahyudi-public-files/azure_disaster_recovery-1-000020.png)"
   ]
  },
  {
   "cell_type": "markdown",
   "metadata": {},
   "source": [
    "When it comes to Azure SQL Database resiliency checklist, we have some important points. We should use Standard or Premium tier. These tiers provide a longer point‑in‑time restore period, up to 35 days.\n",
    "\n",
    "We should also enable SQL Database auditing. Auditing can be used to diagnose malicious attacks or human errors.\n",
    "\n",
    "We should also use active geo‑replication to create a readable secondary in a different region. If our primary database fails or simply needs to be taken offline, we can perform a manual failover to a secondary database. Until we failover, the secondary database remains read only.\n",
    "\n",
    "We should also use point‑in‑time restore to recover from human error. Point‑in‑time restore returns our database to an earlier point in time. These points are crucial because our application without a proper access to the database, becomes unusable."
   ]
  },
  {
   "cell_type": "markdown",
   "metadata": {},
   "source": [
    "![](https://storage.googleapis.com/agungwahyudi-public-files/azure_disaster_recovery-1-000021.png)"
   ]
  },
  {
   "cell_type": "markdown",
   "metadata": {},
   "source": [
    "When talking about resiliency checklists for Azure Cosmos DB, we should take under consideration two important points. We should replicate the database across regions so once one region is unavailable, we can still access the data and read it from another region.\n",
    "\n",
    "Also, we should optionally enable multi master. In this case, we can write to multiple regions in Azure. It means that once one region is unavailable, we can still write data to the second region."
   ]
  },
  {
   "cell_type": "markdown",
   "metadata": {},
   "source": [
    "![](https://storage.googleapis.com/agungwahyudi-public-files/azure_disaster_recovery-1-000022.png)"
   ]
  },
  {
   "cell_type": "markdown",
   "metadata": {},
   "source": [
    "There are also some interesting points on the resiliency checklist for Azure Storage Account. For application data, we should use read‑access geo‑redundant storage. This storage replicates the data to a secondary region and provides read‑only access from the secondary region. If there is a storage outage in the primary region, the application can read the data from the secondary region.\n",
    "\n",
    "For the virtual machine disks, we should use managed disks. This provides better reliability for virtual machines in an availability set because the disks are sufficiently isolated from each other to avoid single point of failure.\n",
    "\n",
    "For the Queue Storage, we should create a backup queue in another region. For Queue Storage, a read‑only replica has limited use because we can queue in the queue items. Instead, we should create a backup queue in a Storage Account in another region. If there is a storage outage, the application can use the backup queue until the primary region becomes available again.\n",
    "\n",
    "In the next clip, we will discover terms like recovery point objective, recovery time objective, and recovery level objective."
   ]
  },
  {
   "cell_type": "markdown",
   "metadata": {
    "vscode": {
     "languageId": "plaintext"
    }
   },
   "source": [
    "# Determine and Document RTO, RPO, and RLO Recovery Requirements"
   ]
  },
  {
   "cell_type": "markdown",
   "metadata": {},
   "source": [
    "![](https://storage.googleapis.com/agungwahyudi-public-files/azure_disaster_recovery-1-000024.png)"
   ]
  },
  {
   "cell_type": "markdown",
   "metadata": {},
   "source": [
    "Welcome to the clip Determine and Document RTO, RPO, and RLO Recovery Requirements. Let's discover what is hidden under these terms.\n",
    "\n",
    "Let's start with the recovery time objective, RTO. This is the duration of the time and a service level within which a business process must be restored after a disaster in order to avoid unacceptable consequences associated with a break in continuity."
   ]
  },
  {
   "cell_type": "markdown",
   "metadata": {},
   "source": [
    "![](https://storage.googleapis.com/agungwahyudi-public-files/azure_disaster_recovery-1-000025.png)"
   ]
  },
  {
   "cell_type": "markdown",
   "metadata": {},
   "source": [
    "This means that in the event of a disaster, such as a wide system virus or a user deleting production data, the RTO is the time it will take to recover from a disaster and have the data and applications back online. The recovery time objective is really important. Try to imagine that there is a banking application for instance, and there is a disaster. For instance, the database with a users table is deleted or just a table with users data is deleted. What now? Users cannot sign in to the application, cannot access critical data. We must do everything to restore the system to the previous point when users could access it."
   ]
  },
  {
   "cell_type": "markdown",
   "metadata": {},
   "source": [
    "![](https://storage.googleapis.com/agungwahyudi-public-files/azure_disaster_recovery-1-000026.png)"
   ]
  },
  {
   "cell_type": "markdown",
   "metadata": {},
   "source": [
    "Recovery point objective, RPO, describes the interval of time that might pass during a disruption before the quantity of data lost during that period exceeds the business continuity plan's maximum allowable threshold. For instance, if the last available good copy of data upon an outage is from 18 hours ago and the RPO for this business is 20 hours, then we are still within the parameters of the business continuities plan's RPO. In other words, this is the answer to the question, up to what point in time could the business process recovery proceed tolerable given the volume of the data lost during that interval?"
   ]
  },
  {
   "cell_type": "markdown",
   "metadata": {},
   "source": [
    "![](https://storage.googleapis.com/agungwahyudi-public-files/azure_disaster_recovery-1-000027.png)"
   ]
  },
  {
   "cell_type": "markdown",
   "metadata": {},
   "source": [
    "Recovery level objective, RLO, defines the granularity with which data has to be recovered, whether recovery is required for the whole instance, database, or set of databases or specific tables or the whole system."
   ]
  },
  {
   "cell_type": "markdown",
   "metadata": {},
   "source": [
    "![](https://storage.googleapis.com/agungwahyudi-public-files/azure_disaster_recovery-1-000028.png)"
   ]
  },
  {
   "cell_type": "markdown",
   "metadata": {},
   "source": [
    "For example, we have to decide whether we have to recover the web application or maybe the web application together with the database structure or maybe the whole system. In the next clip, we are going to talk about backup and disaster recovery for Azure applications."
   ]
  },
  {
   "cell_type": "markdown",
   "metadata": {},
   "source": [
    "# Backup and Disaster Recovery for Azure Applications"
   ]
  },
  {
   "cell_type": "markdown",
   "metadata": {},
   "source": [
    "![](https://storage.googleapis.com/agungwahyudi-public-files/azure_disaster_recovery-1-000030.png)"
   ]
  },
  {
   "cell_type": "markdown",
   "metadata": {},
   "source": [
    "Welcome to the clip Backup and Disaster Recovery for Azure Applications. Many Azure services include features that support resiliency and availability."
   ]
  },
  {
   "cell_type": "markdown",
   "metadata": {},
   "source": [
    "![](https://storage.googleapis.com/agungwahyudi-public-files/azure_disaster_recovery-1-000031.png)"
   ]
  },
  {
   "cell_type": "markdown",
   "metadata": {},
   "source": [
    "Evaluating each service independently is likely to improve disaster recovery plan. For instance, Azure SQL Database supports geo‑replication. If the data is unavailable in the one Azure region because a table was deleted, like users table, we can still access the data from a second Azure region. That's really helpful. In other cases, there is Azure Cosmos DB, and here we can also enable geo‑replication, and also we can write to multiple regions. This can be also really helpful when disaster occurs."
   ]
  },
  {
   "cell_type": "markdown",
   "metadata": {},
   "source": [
    "![](https://storage.googleapis.com/agungwahyudi-public-files/azure_disaster_recovery-1-000032.png)"
   ]
  },
  {
   "cell_type": "markdown",
   "metadata": {},
   "source": [
    "Once our solution is ready, it's good to prepare disaster recovery plan. Let's discover some points included in such plan.\n",
    "\n",
    "First of all, we should evaluate the business impact of application failures. For instance, we should answer a simple question, what will happen when application stops working? Probably we will lose money.\n",
    "\n",
    "We should also automate the process as much as possible. For instance, we should have automatic‑release pipelines to enable fast recovery.\n",
    "\n",
    "We should also document the process, especially any manual steps. We should provide clear information for the team members, what they should do to recover from the failure.\n",
    "\n",
    "We should also choose a cross‑region recovery architecture. This is something that I mentioned before, that we should deploy our solution in a cross region to enable disaster recovery.\n",
    "\n",
    "And we should also perform regular disaster simulations to validate and improve the plan."
   ]
  },
  {
   "cell_type": "markdown",
   "metadata": {},
   "source": [
    "![](https://storage.googleapis.com/agungwahyudi-public-files/azure_disaster_recovery-1-000033.png)"
   ]
  },
  {
   "cell_type": "markdown",
   "metadata": {},
   "source": [
    "Let's look at an example of multiple Azure regions for high availability. We have web application in two regions. We have also SQL Database, Cosmos DB, and Azure Storage."
   ]
  },
  {
   "cell_type": "markdown",
   "metadata": {},
   "source": [
    "![](https://storage.googleapis.com/agungwahyudi-public-files/azure_disaster_recovery-1-000034.png)"
   ]
  },
  {
   "cell_type": "markdown",
   "metadata": {},
   "source": [
    "When there is an outage of web application in the first region, Azure Traffic Manager can route the traffic to the second region. This provides a high availability for our solution."
   ]
  },
  {
   "cell_type": "markdown",
   "metadata": {},
   "source": [
    "![](https://storage.googleapis.com/agungwahyudi-public-files/azure_disaster_recovery-1-000035.png)"
   ]
  },
  {
   "cell_type": "markdown",
   "metadata": {},
   "source": [
    "When talking about data corruption and restoration, it's good to have backups. Backups protect from losing a component of the application because of accidental deletion or data corruption.\n",
    "\n",
    "The frequency of running the backup process determines the recovery point objective.\n",
    "\n",
    "Azure automatically stores Azure Storage and SQL Database data three times within different fault domains in the same region.\n",
    "\n",
    "In case data is corrupted or deleted in the primary copy, all the changes replicate to the other copies."
   ]
  },
  {
   "cell_type": "markdown",
   "metadata": {},
   "source": [
    "![](https://storage.googleapis.com/agungwahyudi-public-files/azure_disaster_recovery-1-000036.png)"
   ]
  },
  {
   "cell_type": "markdown",
   "metadata": {},
   "source": [
    "Let's talk about some features that support high availability in the Azure services. Azure App Service scales out up to 30 virtual machines instances.\n",
    "\n",
    "It also provides support for staging slots and automated backups in the Standard and Premium tiers.\n",
    "\n",
    "With the deployment slots, we can hold the last‑known‑good deployment. If there is a problem discovered later, there is a quick way to revert to the last‑known‑good version."
   ]
  },
  {
   "cell_type": "markdown",
   "metadata": {},
   "source": [
    "![](https://storage.googleapis.com/agungwahyudi-public-files/azure_disaster_recovery-1-000037.png)"
   ]
  },
  {
   "cell_type": "markdown",
   "metadata": {},
   "source": [
    "Azure Cosmos DB supports geo‑replication across regions. Once the data from one region is unavailable, we can still access the data, which was replicated to the second region.\n",
    "\n",
    "Azure Cosmos DB also supports multiple write regions. It means that once one region is unavailable to write data, we can still write this data to another region.\n",
    "\n",
    "The client SDK automatically sends write requests to the current write region after a failover."
   ]
  },
  {
   "cell_type": "markdown",
   "metadata": {},
   "source": [
    "![](https://storage.googleapis.com/agungwahyudi-public-files/azure_disaster_recovery-1-000038.png)"
   ]
  },
  {
   "cell_type": "markdown",
   "metadata": {},
   "source": [
    "When talking about high availability with Azure SQL Database, there is active geo‑replication that enables creating a readable secondary replica in a different region. There can be up to four readable secondary replicas. We can failover to a secondary database if primary database fails or needs to be taken offline."
   ]
  },
  {
   "cell_type": "markdown",
   "metadata": {},
   "source": [
    "![](https://storage.googleapis.com/agungwahyudi-public-files/azure_disaster_recovery-1-000039.png)"
   ]
  },
  {
   "cell_type": "markdown",
   "metadata": {},
   "source": [
    "Read‑access geo‑redundant storage enables high availability for Azure Storage Account. It replicates the data to a secondary region and provides read‑only access from the secondary region.\n",
    "\n",
    "In case of storage outage in the primary region, the application can read the data from the secondary region.\n",
    "\n",
    "The data in the Microsoft Azure Storage Account is always replicated to ensure durability and high availability.\n",
    "\n",
    "In the next clip, we will introduce Azure Traffic Manager and see how to configure the service in the Azure Portal."
   ]
  },
  {
   "cell_type": "markdown",
   "metadata": {
    "vscode": {
     "languageId": "plaintext"
    }
   },
   "source": [
    "# Demo: Azure Traffic Manager"
   ]
  },
  {
   "cell_type": "markdown",
   "metadata": {},
   "source": [
    "![](https://storage.googleapis.com/agungwahyudi-public-files/azure_disaster_recovery-1-000040.png)"
   ]
  },
  {
   "cell_type": "markdown",
   "metadata": {},
   "source": [
    "Azure Traffic Manager is a DNS‑based traffic load balancer available in the Azure cloud that enables distribution of a traffic optimally to services across global Azure regions.\n",
    "\n",
    "It delivers high availability for critical applications by monitoring endpoints and providing automatic failover when an endpoint goes down."
   ]
  },
  {
   "cell_type": "markdown",
   "metadata": {},
   "source": [
    "![](https://storage.googleapis.com/agungwahyudi-public-files/azure_disaster_recovery-1-000041.png)"
   ]
  },
  {
   "cell_type": "markdown",
   "metadata": {},
   "source": [
    "In this demo, we will create and configure Azure Traffic Manager in the Azure portal, we will create a Traffic Manager profile, and we will add Traffic Manager endpoints. At the end, we will test the Traffic Manager profile. Once we sign into the Azure portal under portal.azure.com, we click the Create a resource button. In the search box, we have to type web app and select Web Application. On the next page, we click the Create button. There are a few details we have to fill. First of all, we have to create a new resource group. To do it, we click Create new and provide the name. In my case, this is rg‑pluralsight‑TM1. Then we click the OK button. We have to also provide the name of the web application, in this case psWebAppEastUS. So the application will be available under the psWebAppEastUS.azurewebsites.net URL. Then we have to select a runtime stack. In this case, let's select .NET Core 2.2. A very important thing, we have to also set a region. In this case, we select East US. Now we have to scroll down and create a new App Service plan. To do it, we click Create new, and in the dialog we have to type the name. In this case, psAppServicePlanEastUS, then we click the OK button. We can also leave the rest of the settings as they are, so Sku and size is set to Standard as well. Then we can click the Monitoring tab and we can disable Application Insights because we will not use them in this course. The Tags section can be also left empty. In the Review + create view, we can click the Create button to create an App Service plan together with a web application. To avoid waiting until the resources are provisioned, I forwarded the video. Once the web application is created, we can click the Go to resource button. In the Overview tab, there are some details about newly created web apps, like Status: Running in this case, Location, so East US as we selected before, and also URL address. Now we have to create a second web App Service plan and an application, but this time in another Azure region, West Europe. Again in the main tab, we click Create a resource and search for the web app. We click the Create button, and in the Display blade we have to fill some details like in the previous case. We have to create another resource group, this time it will be called, in my case, ps‑Pluralsight‑TM2. Once we type the name, we can click the OK button. Then we scroll down and provide the web app name, psWebAppWestEurope this time. We have to also select the Runtime stack, so in this case .NET Core 2.2 and set the region to West Europe. We have to also create a separate App Service plan. To do it, we click Create new, and let's type psAppServicePlanWestEurope. Once we type the name of the App Service plan, again we can click the OK button. In the previous case, the Sku and size section can be left as it is set to Standard S1. Then we can click the Monitoring tab and disable Application Insights because we will not use this service in this course. We do not have to provide any tags. To avoid waiting until the resources are provisioned, I forwarded the video. Once the web application is created, we can click the Go to resource button. This time, the application is available in the West Europe region, and of course under a different URL. Now it's time to create Azure Traffic Manager. From the home menu, we click the Create a resource button, and then in the search box we type Traffic Manager. Here we select the Traffic Manager profile. We click the Create button, and in the next blade we have to provide some details. We have to provide a unique name for the Traffic Manager. This time I will call it ps‑course.trafficmanager.net, and the routing method should be set to priority. We can leave the subscription as it is. In the Resource group section, we can select the resource group we created for the first web application, in this case rg‑pluralsight‑TM1, then we click the Create button. Once the resource is ready, we can click the Go to resource button. From the bar on the left side, we select Endpoints, and here we have to add a new endpoint. To do it, we click the Add button. In the Display blade, we have to provide some configuration details. In the Name text box, we can type psPrimaryEndpoint, and from the Target resource type we select App Service. Then we have to set a target resource, so in this case we would like to select one of the web apps we created before. We select psWebAppEastUS. In the Priority box, we can leave 1 as the value. Then we can click the OK button at the bottom. Now we want to add a second endpoint. In the Name text box, we can type psFailoverEndpoint. The Target resource type should be set to App Service, like for the previous endpoint. We select psWebAppWestEurope as a target resource, priority in this case should be set to the number 2. Then we click the OK button. After a few seconds, we should see the two endpoints that were added. Now let's go to the Overview tab, and there we can copy the DNS name for our Traffic Manager. In the new tab in the browser, we can paste this address and verify if the main page of the web app was displayed correctly. In this case, the whole traffic is routed to the psWebAppEastUS web application. Now we can try to simulate failover. In the Overview tab, we select PrimaryEndpoint and we can change its status to Disabled. We have to of course save those changes by clicking the Save button. So here, we have to change the status to Disabled and click Save. After a few seconds, the endpoints should be disabled. In the new tab, we can again paste the DNS URL of the Traffic Manager. The web app should be still available, but this time traffic is routed to the second endpoint, so psWebAppWestEurope web application. Another way we can test the failover is by disabling the primary web application. So let's see what will happen. First, let's enable primary endpoint again. We have to remember to save the settings. Then we can open the blade for the psWebAppEastUS web application and click the Stop button. This will disable the primary web application. In the new tab, we can paste the Traffic Manager URL and see that web application is still available and the traffic was routed to the secondary region"
   ]
  },
  {
   "cell_type": "markdown",
   "metadata": {
    "vscode": {
     "languageId": "plaintext"
    }
   },
   "source": [
    "# Summary"
   ]
  },
  {
   "cell_type": "markdown",
   "metadata": {
    "vscode": {
     "languageId": "plaintext"
    }
   },
   "source": [
    "![](https://storage.googleapis.com/agungwahyudi-public-files/azure_disaster_recovery-1-000042.png)"
   ]
  },
  {
   "cell_type": "markdown",
   "metadata": {
    "vscode": {
     "languageId": "plaintext"
    }
   },
   "source": [
    "In this module, we discussed resiliency checklists for specific Azure services like Azure App Service, Azure SQL Database, Cosmos DB, and storage account. We explained terms like recovery time objective, recovery point objective, and recovery level objective, and at the end, we saw how to configure Azure Traffic Manager load balancer in the Azure portal. In the next module, we will talk about data backup in Azure."
   ]
  }
 ],
 "metadata": {
  "language_info": {
   "name": "python"
  }
 },
 "nbformat": 4,
 "nbformat_minor": 2
}
